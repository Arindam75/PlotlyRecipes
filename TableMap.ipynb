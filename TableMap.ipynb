{
 "cells": [
  {
   "cell_type": "code",
   "execution_count": 2,
   "id": "9d467e4f-579a-4535-8db2-114fbf94c3b1",
   "metadata": {
    "tags": []
   },
   "outputs": [],
   "source": [
    "import dash\n",
    "from dash import dcc, html\n",
    "from dash import dash_table\n",
    "import plotly.express as px\n",
    "import pandas as pd"
   ]
  },
  {
   "cell_type": "code",
   "execution_count": 21,
   "id": "839b8bf3-657d-4d82-89aa-3585a3843781",
   "metadata": {
    "tags": []
   },
   "outputs": [
    {
     "data": {
      "text/html": [
       "\n",
       "        <iframe\n",
       "            width=\"100%\"\n",
       "            height=\"650\"\n",
       "            src=\"http://127.0.0.1:8053/\"\n",
       "            frameborder=\"0\"\n",
       "            allowfullscreen\n",
       "            \n",
       "        ></iframe>\n",
       "        "
      ],
      "text/plain": [
       "<IPython.lib.display.IFrame at 0x250ad943790>"
      ]
     },
     "metadata": {},
     "output_type": "display_data"
    }
   ],
   "source": [
    "# Sample DataFrame for the DataTable\n",
    "data = {\n",
    "    'City': ['New York', 'Los Angeles', 'Chicago', 'Houston', 'Phoenix'],\n",
    "    'Population': [8419600, 3980400, 2716000, 2328000, 1690000],\n",
    "    'Latitude': [40.7128, 34.0522, 41.8781, 29.7604, 33.4484],\n",
    "    'Longitude': [-74.0060, -118.2437, -87.6298, -95.3698, -112.0740]\n",
    "}\n",
    "df = pd.DataFrame(data)\n",
    "df2 = px.data.gapminder()\n",
    "\n",
    "# Create a map using Plotly Express\n",
    "fig = px.scatter_mapbox(\n",
    "    df,\n",
    "    lat='Latitude',\n",
    "    lon='Longitude',\n",
    "    hover_name='City',\n",
    "    size='Population',\n",
    "    zoom=3,\n",
    "    center={\"lat\": 37.0902, \"lon\": -95.7129},  # Centered on the USA\n",
    "    mapbox_style=\"open-street-map\"\n",
    ")\n",
    "\n",
    "fig.update_layout(margin=dict(t=0, b=0, l=0, r=20))\n",
    "\n",
    "# Initialize the Dash app\n",
    "app = dash.Dash(__name__)\n",
    "\n",
    "app.layout = html.Div([\n",
    "    html.Div([\n",
    "        # Data Table\n",
    "        dash_table.DataTable(\n",
    "            id='data-table',\n",
    "            columns=[{\"name\": i, \"id\": i} for i in df2.columns],\n",
    "            data=df2.to_dict('records'),\n",
    "            style_table={'height': '400px', 'overflowY': 'auto'},\n",
    "            style_cell={'textAlign': 'left'},\n",
    "        )\n",
    "    ], style={'width': '50%', 'display': 'inline-block', 'vertical-align': 'top'}),\n",
    "\n",
    "    html.Div([\n",
    "        # Map\n",
    "        dcc.Graph(\n",
    "            id='map',\n",
    "            figure=fig,\n",
    "            style={'width': '100%', 'height': '100%', 'border': '1px solid black',\n",
    "                  'margin': '0px'}\n",
    "        )\n",
    "    ], style={\n",
    "        'width': '50%',\n",
    "        'display': 'inline-block',\n",
    "        'padding': '0px',  # No padding\n",
    "        'height': '400px',  # Same height as the data table\n",
    "    })\n",
    "])\n",
    "\n",
    "if __name__ == '__main__':\n",
    "    app.run_server(debug=True, port = 8053)"
   ]
  },
  {
   "cell_type": "code",
   "execution_count": null,
   "id": "ab44537c-9da4-4329-b437-e1070b08b76e",
   "metadata": {},
   "outputs": [],
   "source": []
  }
 ],
 "metadata": {
  "kernelspec": {
   "display_name": "plotly",
   "language": "python",
   "name": "plotly"
  },
  "language_info": {
   "codemirror_mode": {
    "name": "ipython",
    "version": 3
   },
   "file_extension": ".py",
   "mimetype": "text/x-python",
   "name": "python",
   "nbconvert_exporter": "python",
   "pygments_lexer": "ipython3",
   "version": "3.9.17"
  }
 },
 "nbformat": 4,
 "nbformat_minor": 5
}
