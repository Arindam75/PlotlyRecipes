{
 "cells": [
  {
   "cell_type": "code",
   "execution_count": 1,
   "id": "81a079d7-5c65-41e8-88b7-8268528cea3c",
   "metadata": {
    "tags": []
   },
   "outputs": [],
   "source": [
    "import pandas as pd\n",
    "import os\n",
    "\n",
    "from dash import Dash, dcc, html, Input, Output,callback\n",
    "import plotly.express as px\n",
    "import plotly.graph_objects as go"
   ]
  },
  {
   "cell_type": "code",
   "execution_count": 2,
   "id": "56421b78-a362-4da4-b08d-dca0ec4fc1cb",
   "metadata": {
    "tags": []
   },
   "outputs": [],
   "source": [
    "df = pd.read_csv('data//data.csv')\n",
    "df_mean = df.groupby('year')['nat_turnout'].mean().reset_index()"
   ]
  },
  {
   "cell_type": "code",
   "execution_count": 8,
   "id": "adde55f3-803b-4f55-be40-da41560cbe7b",
   "metadata": {
    "tags": []
   },
   "outputs": [
    {
     "data": {
      "text/html": [
       "<div>\n",
       "<style scoped>\n",
       "    .dataframe tbody tr th:only-of-type {\n",
       "        vertical-align: middle;\n",
       "    }\n",
       "\n",
       "    .dataframe tbody tr th {\n",
       "        vertical-align: top;\n",
       "    }\n",
       "\n",
       "    .dataframe thead th {\n",
       "        text-align: right;\n",
       "    }\n",
       "</style>\n",
       "<table border=\"1\" class=\"dataframe\">\n",
       "  <thead>\n",
       "    <tr style=\"text-align: right;\">\n",
       "      <th></th>\n",
       "      <th>country</th>\n",
       "      <th>abbreviation</th>\n",
       "      <th>region</th>\n",
       "      <th>euro_year</th>\n",
       "      <th>euro_turnout</th>\n",
       "      <th>year</th>\n",
       "      <th>nat_turnout</th>\n",
       "      <th>population</th>\n",
       "      <th>pres_more</th>\n",
       "    </tr>\n",
       "  </thead>\n",
       "  <tbody>\n",
       "    <tr>\n",
       "      <th>0</th>\n",
       "      <td>Austria</td>\n",
       "      <td>AT</td>\n",
       "      <td>Western</td>\n",
       "      <td>2019</td>\n",
       "      <td>59.80</td>\n",
       "      <td>2017</td>\n",
       "      <td>80.00</td>\n",
       "      <td>8754413</td>\n",
       "      <td>False</td>\n",
       "    </tr>\n",
       "    <tr>\n",
       "      <th>1</th>\n",
       "      <td>Belgium</td>\n",
       "      <td>BE</td>\n",
       "      <td>Western</td>\n",
       "      <td>2019</td>\n",
       "      <td>88.47</td>\n",
       "      <td>2019</td>\n",
       "      <td>88.38</td>\n",
       "      <td>11647253</td>\n",
       "      <td>False</td>\n",
       "    </tr>\n",
       "    <tr>\n",
       "      <th>2</th>\n",
       "      <td>Bulgaria</td>\n",
       "      <td>BU</td>\n",
       "      <td>Central/Eastern</td>\n",
       "      <td>2019</td>\n",
       "      <td>32.64</td>\n",
       "      <td>2016</td>\n",
       "      <td>56.28</td>\n",
       "      <td>7144653</td>\n",
       "      <td>True</td>\n",
       "    </tr>\n",
       "    <tr>\n",
       "      <th>3</th>\n",
       "      <td>Croatia</td>\n",
       "      <td>HR</td>\n",
       "      <td>Central/Eastern</td>\n",
       "      <td>2019</td>\n",
       "      <td>29.86</td>\n",
       "      <td>2015</td>\n",
       "      <td>59.05</td>\n",
       "      <td>4470534</td>\n",
       "      <td>True</td>\n",
       "    </tr>\n",
       "    <tr>\n",
       "      <th>4</th>\n",
       "      <td>Cyprus</td>\n",
       "      <td>CY</td>\n",
       "      <td>Mediterranean</td>\n",
       "      <td>2019</td>\n",
       "      <td>44.99</td>\n",
       "      <td>2018</td>\n",
       "      <td>73.97</td>\n",
       "      <td>1237088</td>\n",
       "      <td>True</td>\n",
       "    </tr>\n",
       "  </tbody>\n",
       "</table>\n",
       "</div>"
      ],
      "text/plain": [
       "    country abbreviation           region  euro_year  euro_turnout  year  \\\n",
       "0   Austria           AT          Western       2019         59.80  2017   \n",
       "1   Belgium           BE          Western       2019         88.47  2019   \n",
       "2  Bulgaria           BU  Central/Eastern       2019         32.64  2016   \n",
       "3   Croatia           HR  Central/Eastern       2019         29.86  2015   \n",
       "4    Cyprus           CY    Mediterranean       2019         44.99  2018   \n",
       "\n",
       "   nat_turnout  population  pres_more  \n",
       "0        80.00     8754413      False  \n",
       "1        88.38    11647253      False  \n",
       "2        56.28     7144653       True  \n",
       "3        59.05     4470534       True  \n",
       "4        73.97     1237088       True  "
      ]
     },
     "execution_count": 8,
     "metadata": {},
     "output_type": "execute_result"
    }
   ],
   "source": [
    "df.head()"
   ]
  },
  {
   "cell_type": "code",
   "execution_count": 9,
   "id": "ddae81e0-be9d-40cc-83f3-06ac407a082d",
   "metadata": {
    "tags": []
   },
   "outputs": [],
   "source": [
    "scatter_plot = px.scatter(df , x = 'euro_turnout', y = 'nat_turnout')"
   ]
  },
  {
   "cell_type": "code",
   "execution_count": 11,
   "id": "420f9688-0b63-45c6-ae9d-12dee5b54275",
   "metadata": {
    "tags": []
   },
   "outputs": [
    {
     "data": {
      "text/html": [
       "\n",
       "        <iframe\n",
       "            width=\"100%\"\n",
       "            height=\"650\"\n",
       "            src=\"http://127.0.0.1:8054/\"\n",
       "            frameborder=\"0\"\n",
       "            allowfullscreen\n",
       "            \n",
       "        ></iframe>\n",
       "        "
      ],
      "text/plain": [
       "<IPython.lib.display.IFrame at 0x10bf52d3be0>"
      ]
     },
     "metadata": {},
     "output_type": "display_data"
    }
   ],
   "source": [
    "app = Dash(__name__)\n",
    "app.layout = html.Div([\n",
    "    \n",
    "    html.H1('Scatter Plot'),\n",
    "    html.P('Select Points'),\n",
    "    \n",
    "    html.Div(children=[\n",
    "    dcc.Graph(id = 'scatter_plot', figure = scatter_plot, style={'display':'inline-block'}),\n",
    "    ]),\n",
    "\n",
    "])\n",
    "\n",
    "@app.callback(\n",
    "    Output('bar_plot_country', 'figure'),\n",
    "    Input('bar_plot_yearly', 'hoverData'))\n",
    "\n",
    "if __name__ == '__main__':\n",
    "    app.run_server(debug=True, port=8054)"
   ]
  },
  {
   "cell_type": "code",
   "execution_count": null,
   "id": "506a5b71-b71e-4258-af94-79d52bbf04e3",
   "metadata": {},
   "outputs": [],
   "source": []
  }
 ],
 "metadata": {
  "kernelspec": {
   "display_name": "plotly",
   "language": "python",
   "name": "plotly"
  },
  "language_info": {
   "codemirror_mode": {
    "name": "ipython",
    "version": 3
   },
   "file_extension": ".py",
   "mimetype": "text/x-python",
   "name": "python",
   "nbconvert_exporter": "python",
   "pygments_lexer": "ipython3",
   "version": "3.9.17"
  }
 },
 "nbformat": 4,
 "nbformat_minor": 5
}
