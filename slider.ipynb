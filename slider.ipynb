{
 "cells": [
  {
   "cell_type": "code",
   "execution_count": 1,
   "id": "86868818-1648-4ca0-aea8-9e15a787d379",
   "metadata": {
    "tags": []
   },
   "outputs": [],
   "source": [
    "import plotly.graph_objects as go\n",
    "import plotly.express as px\n",
    "from dash import Dash, dcc, html, Input, Output,callback\n",
    "\n",
    "from scipy.signal import butter, lfilter, freqz\n",
    "\n",
    "import numpy as np\n",
    "import pandas as pd"
   ]
  },
  {
   "cell_type": "code",
   "execution_count": 2,
   "id": "d95c7498-8363-40b8-99f2-afa139be7ec5",
   "metadata": {
    "tags": []
   },
   "outputs": [],
   "source": [
    "def butter_lowpass(cutoff, fs, order=5):\n",
    "    return butter(order, cutoff, fs=fs, btype='low', analog=False)\n",
    "\n",
    "def butter_lowpass_filter(data, cutoff, fs, order=5):\n",
    "    b, a = butter_lowpass(cutoff, fs, order=order)\n",
    "    y = lfilter(b, a, data)\n",
    "    return y"
   ]
  },
  {
   "cell_type": "code",
   "execution_count": 3,
   "id": "09d18291-bc65-44e1-9795-19645916eec7",
   "metadata": {
    "tags": []
   },
   "outputs": [
    {
     "data": {
      "text/html": [
       "\n",
       "        <iframe\n",
       "            width=\"100%\"\n",
       "            height=\"650\"\n",
       "            src=\"http://127.0.0.1:8050/\"\n",
       "            frameborder=\"0\"\n",
       "            allowfullscreen\n",
       "            \n",
       "        ></iframe>\n",
       "        "
      ],
      "text/plain": [
       "<IPython.lib.display.IFrame at 0x202af12e9a0>"
      ]
     },
     "metadata": {},
     "output_type": "display_data"
    }
   ],
   "source": [
    "app = Dash(__name__)\n",
    "app.layout = html.Div([\n",
    "    dcc.Slider(\n",
    "                id='filter-order',\n",
    "                min = 2.0 ,\n",
    "                max = 8.0 ,\n",
    "                step = 1,\n",
    "                value = 2,\n",
    "                marks = {i:str(i) for i in range(0,9)},\n",
    "                updatemode='drag',\n",
    "            ),\n",
    "     dcc.Slider(\n",
    "                id='cutoff',\n",
    "                min = 2 ,\n",
    "                max = 270 ,\n",
    "                step = 1,\n",
    "                value = 2,\n",
    "                marks = {i:str(i) for i in range(0,270,10)},\n",
    "                updatemode='drag',\n",
    "            ),\n",
    "    dcc.Slider(\n",
    "                id='max',\n",
    "                min = 0.6 ,\n",
    "                max = 1 ,\n",
    "                step = 0.1,\n",
    "                value = 1,\n",
    "                updatemode='drag',\n",
    "            ),\n",
    "    dcc.Slider(\n",
    "                id='min',\n",
    "                min = 0.0 ,\n",
    "                max = 0.5 ,\n",
    "                step = 0.05,\n",
    "                value =  0,\n",
    "                updatemode='drag',\n",
    "            ),\n",
    "    html.Div(children = [dcc.Graph(\n",
    "        id='filter',style={'display':'inline-block'}),\n",
    "        dcc.Graph(\n",
    "        id='heatmap',style={'display':'inline-block'})])\n",
    "    ])\n",
    "\n",
    "@callback(\n",
    "    [Output(component_id='filter', component_property='figure'),\n",
    "    Output(component_id='heatmap', component_property='figure')],\n",
    "    [Input(component_id='filter-order', component_property='value'),\n",
    "     Input(component_id='cutoff', component_property='value'),\n",
    "    Input(component_id='max', component_property='value'),\n",
    "    Input(component_id='min', component_property='value')]\n",
    ")\n",
    "def update_filter(order, cutoff, max_val,min_val):\n",
    "    \n",
    "    cutoff = cutoff/10\n",
    "    fs = 54\n",
    "    b, a = butter_lowpass(cutoff, fs, order)\n",
    "    w, h = freqz(b, a, fs=fs, worN=270)\n",
    "    y = np.abs(h)\n",
    "    \n",
    "    max_rssi = np.full((1, 270, 24), max_val)\n",
    "    min_rssi = np.full((1, 270, 24), min_val)\n",
    "       \n",
    "    y = y * (max_val - min_val) + min_val\n",
    "    \n",
    "    fig = go.Figure([go.Scatter(x=[i for i in range(y.shape[0])], y=y)])\n",
    "    '''\n",
    "    max_rssi = np.full((1, 270, 24), max_val)\n",
    "    min_rssi = np.full((1, 270, 24), min_val)\n",
    "    '''   \n",
    "    #y = y * (max_val - min_val) + min_val\n",
    "    y = y.reshape(270,1)\n",
    "    hrs = np.ones((1,24))\n",
    "    img = (y*hrs)\n",
    "    \n",
    "    img = np.reshape(img,(1,270,24))\n",
    "    images = np.r_[img, max_rssi, min_rssi]\n",
    "    \n",
    "    heat_map = px.imshow(images,\n",
    "                zmin=0,\n",
    "                zmax=1,\n",
    "                facet_col=0,\n",
    "                aspect = 'auto',\n",
    "                color_continuous_scale='jet')\n",
    "\n",
    "    heat_map.update_layout(margin = dict(t=70, l=50, r=0, b=5),\n",
    "                          coloraxis_showscale = False,\n",
    "                          height = 400,\n",
    "                          width = 600)\n",
    "     \n",
    "    return fig , heat_map\n",
    "\n",
    "if __name__ == '__main__':\n",
    "    app.run_server(mode = 'jupyterlab')"
   ]
  },
  {
   "cell_type": "code",
   "execution_count": null,
   "id": "1e53cacc-8895-486e-8d74-91834101484c",
   "metadata": {},
   "outputs": [],
   "source": []
  }
 ],
 "metadata": {
  "kernelspec": {
   "display_name": "plotly",
   "language": "python",
   "name": "plotly"
  },
  "language_info": {
   "codemirror_mode": {
    "name": "ipython",
    "version": 3
   },
   "file_extension": ".py",
   "mimetype": "text/x-python",
   "name": "python",
   "nbconvert_exporter": "python",
   "pygments_lexer": "ipython3",
   "version": "3.9.17"
  }
 },
 "nbformat": 4,
 "nbformat_minor": 5
}
