{
 "cells": [
  {
   "cell_type": "code",
   "execution_count": 1,
   "id": "6094a89e-ef7b-4a17-8f91-effeaf04acdc",
   "metadata": {
    "tags": []
   },
   "outputs": [],
   "source": [
    "from dash import Dash, dcc, html, Input, Output, callback\n",
    "from dash.dash_table import DataTable\n",
    "import plotly.express as px\n",
    "\n",
    "import pandas as pd\n",
    "import numpy as np\n",
    "import plotly.express as px\n",
    "import random\n",
    "import string\n",
    "import os\n"
   ]
  },
  {
   "cell_type": "code",
   "execution_count": 2,
   "id": "37566d47-f2de-49e5-9291-519e55c8519c",
   "metadata": {},
   "outputs": [],
   "source": [
    "np.random.seed(0)\n",
    "df = pd.DataFrame({\"Col-\" + str(i + 1): np.random.rand(100) for i in range(2)})\n",
    "\n",
    "name = [''.join(random.choices(string.ascii_uppercase +\n",
    "                             string.digits, k=7)) for i in range(100)]\n",
    "df['name'] = name"
   ]
  },
  {
   "cell_type": "code",
   "execution_count": 3,
   "id": "74b763cf-0c25-4e45-a9c7-799e7183f0af",
   "metadata": {},
   "outputs": [],
   "source": [
    "colors = px.colors.diverging.RdYlGn\n",
    "colors.reverse()\n",
    "color_scale = [(np.around(i/11,2),np.around((i/11)+(1/11),2),col) for i,col in enumerate(colors)]"
   ]
  },
  {
   "cell_type": "code",
   "execution_count": 4,
   "id": "2614d40c-0445-4f43-b8c4-47296e5312f6",
   "metadata": {},
   "outputs": [
    {
     "data": {
      "text/plain": [
       "['rgb(0,104,55)',\n",
       " 'rgb(26,152,80)',\n",
       " 'rgb(102,189,99)',\n",
       " 'rgb(166,217,106)',\n",
       " 'rgb(217,239,139)',\n",
       " 'rgb(255,255,191)',\n",
       " 'rgb(254,224,139)',\n",
       " 'rgb(253,174,97)',\n",
       " 'rgb(244,109,67)',\n",
       " 'rgb(215,48,39)',\n",
       " 'rgb(165,0,38)']"
      ]
     },
     "execution_count": 4,
     "metadata": {},
     "output_type": "execute_result"
    }
   ],
   "source": [
    "colors"
   ]
  },
  {
   "cell_type": "code",
   "execution_count": 5,
   "id": "c4c515b4-094e-4e40-bfc7-de4f25dc2f9b",
   "metadata": {},
   "outputs": [
    {
     "data": {
      "text/plain": [
       "[(0.0, 0.09, 'rgb(0,104,55)'),\n",
       " (0.09, 0.18, 'rgb(26,152,80)'),\n",
       " (0.18, 0.27, 'rgb(102,189,99)'),\n",
       " (0.27, 0.36, 'rgb(166,217,106)'),\n",
       " (0.36, 0.45, 'rgb(217,239,139)'),\n",
       " (0.45, 0.55, 'rgb(255,255,191)'),\n",
       " (0.55, 0.64, 'rgb(254,224,139)'),\n",
       " (0.64, 0.73, 'rgb(253,174,97)'),\n",
       " (0.73, 0.82, 'rgb(244,109,67)'),\n",
       " (0.82, 0.91, 'rgb(215,48,39)'),\n",
       " (0.91, 1.0, 'rgb(165,0,38)')]"
      ]
     },
     "execution_count": 5,
     "metadata": {},
     "output_type": "execute_result"
    }
   ],
   "source": [
    "color_scale"
   ]
  },
  {
   "cell_type": "code",
   "execution_count": 6,
   "id": "1d00b597-efda-4f74-b59d-eeed309d022f",
   "metadata": {},
   "outputs": [],
   "source": [
    "col_name = ['Col-1','Col-2']\n",
    "k = [(col,bin) for bin in color_scale for col in col_name]\n",
    "\n",
    "style_cond = [{\n",
    "        'if': {\n",
    "            'filter_query': '{} > {} && {} <= {}'.format('{'+col_id+'}', schema[0],'{'+col_id+'}', schema[1]),\n",
    "            'column_id': col_id\n",
    "        },\n",
    "        'backgroundColor': schema[2],\n",
    "        'color': 'black'\n",
    "    } for col_id,schema in k\n",
    "]"
   ]
  },
  {
   "cell_type": "code",
   "execution_count": 7,
   "id": "69b0ec94-f465-4068-b00c-644659d66569",
   "metadata": {
    "tags": []
   },
   "outputs": [],
   "source": [
    "fig = px.scatter(df,\n",
    "                 x = \"Col-1\",\n",
    "                 y = \"Col-2\",\n",
    "                 hover_data = ['name'],\n",
    "                 height = 800)"
   ]
  },
  {
   "cell_type": "code",
   "execution_count": 10,
   "id": "4db4f088-35fb-41f4-b6d9-5281f5438bcd",
   "metadata": {
    "scrolled": true,
    "tags": []
   },
   "outputs": [
    {
     "data": {
      "text/html": [
       "\n",
       "        <iframe\n",
       "            width=\"100%\"\n",
       "            height=\"650\"\n",
       "            src=\"http://127.0.0.1:8051/\"\n",
       "            frameborder=\"0\"\n",
       "            allowfullscreen\n",
       "            \n",
       "        ></iframe>\n",
       "        "
      ],
      "text/plain": [
       "<IPython.lib.display.IFrame at 0x13832d9d610>"
      ]
     },
     "metadata": {},
     "output_type": "display_data"
    }
   ],
   "source": [
    "def export_selection(exp_df):\n",
    "    if os.path.isfile('export_data.csv'):\n",
    "        exp_df.to_csv('export_data.csv', mode='a',header=False, index = False)\n",
    "    else:\n",
    "        exp_df.to_csv('export_data.csv', index = False)\n",
    "\n",
    "    return\n",
    "    \n",
    "app = Dash(__name__)\n",
    "app.layout = html.Div(children =\n",
    "    [\n",
    "        html.Div(\n",
    "            dcc.Graph(id=\"g1\",figure = fig),\n",
    "            style={'display':'inline-block','vertical-align': 'top',\n",
    "                   'width':'50%' }),\n",
    "        html.Div([  \n",
    "                DataTable(\n",
    "                    id = 't1',\n",
    "                    columns = [{'name': i, 'id': i} for i in df.columns],\n",
    "                    style_data_conditional = style_cond)\n",
    "                    #ata=df.to_dict('records'))\n",
    "                ],style={'display':'inline-block','vertical-align': 'top','width' : '40%','height':400})\n",
    "        \n",
    "    ]\n",
    ")\n",
    "\n",
    "@callback(\n",
    "    Output(\"t1\", \"data\"),\n",
    "    Input(\"g1\", \"selectedData\")\n",
    "   )\n",
    "def select_points(selection):\n",
    "\n",
    "    temp_df=pd.DataFrame(columns = df.columns)\n",
    "    if selection is not None:\n",
    "\n",
    "        point_idxs = [p[\"pointIndex\"] for p in selection[\"points\"]]\n",
    "        temp_df = df.iloc[point_idxs,::]\n",
    "        #print([p[\"customdata\"] for p in selection[\"points\"]])\n",
    "        export_selection(temp_df.copy())\n",
    "        \n",
    "    data = temp_df.to_dict('records')\n",
    "    \n",
    "    return data\n",
    "\n",
    "if __name__ == \"__main__\":\n",
    "    app.run(debug=True, port = 8051)"
   ]
  },
  {
   "cell_type": "code",
   "execution_count": null,
   "id": "021396ba-271b-4009-acbe-e2b065829a8d",
   "metadata": {},
   "outputs": [],
   "source": []
  }
 ],
 "metadata": {
  "kernelspec": {
   "display_name": "plotly",
   "language": "python",
   "name": "plotly"
  },
  "language_info": {
   "codemirror_mode": {
    "name": "ipython",
    "version": 3
   },
   "file_extension": ".py",
   "mimetype": "text/x-python",
   "name": "python",
   "nbconvert_exporter": "python",
   "pygments_lexer": "ipython3",
   "version": "3.9.17"
  }
 },
 "nbformat": 4,
 "nbformat_minor": 5
}
