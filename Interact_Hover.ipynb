{
 "cells": [
  {
   "cell_type": "code",
   "execution_count": 1,
   "id": "81a079d7-5c65-41e8-88b7-8268528cea3c",
   "metadata": {
    "tags": []
   },
   "outputs": [],
   "source": [
    "import pandas as pd\n",
    "import os\n",
    "\n",
    "from dash import Dash, dcc, html, Input, Output,callback\n",
    "import plotly.express as px\n",
    "import plotly.graph_objects as go"
   ]
  },
  {
   "cell_type": "code",
   "execution_count": 2,
   "id": "56421b78-a362-4da4-b08d-dca0ec4fc1cb",
   "metadata": {
    "tags": []
   },
   "outputs": [],
   "source": [
    "df = pd.read_csv('data//data.csv')\n",
    "df_mean = df.groupby('year')['nat_turnout'].mean().reset_index()"
   ]
  },
  {
   "cell_type": "code",
   "execution_count": 7,
   "id": "d958b411-adfd-416b-ac6e-92e08c201d51",
   "metadata": {
    "tags": []
   },
   "outputs": [],
   "source": [
    "bar_plot_yearly = px.bar(df_mean, x =  'year', y = 'nat_turnout',custom_data=['year'])\n",
    "#bar_plot_cntry = px.bar(df, x =  'country', y = 'nat_turnout')"
   ]
  },
  {
   "cell_type": "code",
   "execution_count": 20,
   "id": "420f9688-0b63-45c6-ae9d-12dee5b54275",
   "metadata": {
    "tags": []
   },
   "outputs": [
    {
     "data": {
      "text/html": [
       "\n",
       "        <iframe\n",
       "            width=\"100%\"\n",
       "            height=\"650\"\n",
       "            src=\"http://127.0.0.1:8053/\"\n",
       "            frameborder=\"0\"\n",
       "            allowfullscreen\n",
       "            \n",
       "        ></iframe>\n",
       "        "
      ],
      "text/plain": [
       "<IPython.lib.display.IFrame at 0x25be5c27a30>"
      ]
     },
     "metadata": {},
     "output_type": "display_data"
    }
   ],
   "source": [
    "app = Dash(__name__)\n",
    "app.layout = html.Div([\n",
    "    html.H1('Election breakdowns'),\n",
    "    \n",
    "    #html.Button('Input',id='input_button',n_clicks=0),\n",
    "    #html.Button('Reset',id='reset_button', n_clicks=0),\n",
    "    \n",
    "    html.Div(children=[\n",
    "    dcc.Graph(id = 'bar_plot_yearly', figure = bar_plot_yearly, style={'display':'inline-block'}),\n",
    "    dcc.Graph(id = 'bar_plot_country',style={'display':'inline-block'}),\n",
    "    ]),\n",
    "\n",
    "])\n",
    "\n",
    "@app.callback(\n",
    "    Output('bar_plot_country', 'figure'),\n",
    "    Input('bar_plot_yearly', 'hoverData'))\n",
    "\n",
    "def update_cntry_plot(hoverData):\n",
    "    \n",
    "    #year = '2014'\n",
    "    if hoverData  :\n",
    "        year = hoverData['points'][0]['customdata'][0]\n",
    "        temp_df = df[df['year']==year]\n",
    "    else:\n",
    "        temp_df = df.copy()\n",
    "    \n",
    "    bar_plot_cntry = px.bar(temp_df, x =  'country', y = 'nat_turnout')\n",
    "    \n",
    "    return bar_plot_cntry\n",
    "\n",
    "\n",
    "if __name__ == '__main__':\n",
    "    app.run_server(debug=True, port=8053)"
   ]
  },
  {
   "cell_type": "code",
   "execution_count": null,
   "id": "506a5b71-b71e-4258-af94-79d52bbf04e3",
   "metadata": {},
   "outputs": [],
   "source": []
  }
 ],
 "metadata": {
  "kernelspec": {
   "display_name": "plotly",
   "language": "python",
   "name": "plotly"
  },
  "language_info": {
   "codemirror_mode": {
    "name": "ipython",
    "version": 3
   },
   "file_extension": ".py",
   "mimetype": "text/x-python",
   "name": "python",
   "nbconvert_exporter": "python",
   "pygments_lexer": "ipython3",
   "version": "3.9.17"
  }
 },
 "nbformat": 4,
 "nbformat_minor": 5
}
