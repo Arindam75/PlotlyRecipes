{
 "cells": [
  {
   "cell_type": "code",
   "execution_count": 4,
   "id": "ab2eed98-5054-463f-b5b9-d17934561568",
   "metadata": {
    "tags": []
   },
   "outputs": [
    {
     "data": {
      "text/html": [
       "\n",
       "        <iframe\n",
       "            width=\"100%\"\n",
       "            height=\"650\"\n",
       "            src=\"http://127.0.0.1:8050/\"\n",
       "            frameborder=\"0\"\n",
       "            allowfullscreen\n",
       "            \n",
       "        ></iframe>\n",
       "        "
      ],
      "text/plain": [
       "<IPython.lib.display.IFrame at 0x206b85b5850>"
      ]
     },
     "metadata": {},
     "output_type": "display_data"
    }
   ],
   "source": [
    "from dash import Dash, dash_table\n",
    "\n",
    "external_stylesheets = ['https://codepen.io/chriddyp/pen/bWLwgP.css']\n",
    "\n",
    "app = Dash(__name__, external_stylesheets=external_stylesheets)\n",
    "\n",
    "app.layout = dash_table.DataTable(\n",
    "    columns=[\n",
    "        {\"name\": [\"\", \"Year\"], \"id\": \"year\" },\n",
    "        {\"name\": [\"City\", \"Montreal\"], \"id\": \"montreal\", \"deletable\": [False, True]},\n",
    "        {\"name\": [\"City\", \"Toronto\"], \"id\": \"toronto\", \"renamable\": True },\n",
    "        {\"name\": [\"City\", \"Ottawa\"], \"id\": \"ottawa\", \"hideable\": \"last\"},\n",
    "        {\"name\": [\"City\", \"Vancouver\"], \"id\": \"vancouver\"},\n",
    "        {\"name\": [\"Climate\", \"Temperature\"], \"id\": \"temp\"},\n",
    "        {\"name\": [\"Climate\", \"Humidity\"], \"id\": \"humidity\"},\n",
    "    ],\n",
    "    data=[\n",
    "        {\n",
    "            \"year\": i,\n",
    "            \"montreal\": i * 10,\n",
    "            \"toronto\": i * 100,\n",
    "            \"ottawa\": i * -1,\n",
    "            \"vancouver\": i * -10,\n",
    "            \"temp\": i * -100,\n",
    "            \"humidity\": i * 5,\n",
    "        }\n",
    "        for i in range(10)\n",
    "    ],\n",
    "    editable = True,\n",
    "    export_format='xlsx',\n",
    "    export_headers='display',\n",
    "    merge_duplicate_headers=True\n",
    ")\n",
    "\n",
    "\n",
    "if __name__ == '__main__':\n",
    "    app.run(debug=True)\n"
   ]
  },
  {
   "cell_type": "code",
   "execution_count": null,
   "id": "20fec7e7-5c01-4902-9a8c-a298fd24f8a5",
   "metadata": {},
   "outputs": [],
   "source": []
  }
 ],
 "metadata": {
  "kernelspec": {
   "display_name": "plotly",
   "language": "python",
   "name": "plotly"
  },
  "language_info": {
   "codemirror_mode": {
    "name": "ipython",
    "version": 3
   },
   "file_extension": ".py",
   "mimetype": "text/x-python",
   "name": "python",
   "nbconvert_exporter": "python",
   "pygments_lexer": "ipython3",
   "version": "3.9.17"
  }
 },
 "nbformat": 4,
 "nbformat_minor": 5
}
