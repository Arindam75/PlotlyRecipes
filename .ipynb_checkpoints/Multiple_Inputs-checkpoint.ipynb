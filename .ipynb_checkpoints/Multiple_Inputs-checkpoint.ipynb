{
 "cells": [
  {
   "cell_type": "code",
   "execution_count": 6,
   "id": "37b82486-61c3-42c3-8327-efefedcd478f",
   "metadata": {
    "tags": []
   },
   "outputs": [],
   "source": [
    "from dash import Dash, dcc, html, Input, Output,callback\n",
    "import plotly.express as px\n",
    "from plotly.subplots import make_subplots\n",
    "import plotly.graph_objects as go\n",
    "import pandas as pd\n",
    "from datetime import datetime, date\n",
    "import numpy as np"
   ]
  },
  {
   "cell_type": "code",
   "execution_count": 7,
   "id": "ed9db0f0-5667-4a11-ac96-203213680a5d",
   "metadata": {
    "tags": []
   },
   "outputs": [],
   "source": [
    "df = px.data.stocks()\n",
    "df['date'] = pd.to_datetime(df['date'])"
   ]
  },
  {
   "cell_type": "markdown",
   "id": "00e8b5d1-63d8-4b8b-a045-c116acb52591",
   "metadata": {},
   "source": [
    "## Multiple Dropdowns and Multiple Plots\n",
    "\n",
    "In this case we select inputs from two drop-downs and feed them to two plots"
   ]
  },
  {
   "cell_type": "code",
   "execution_count": 8,
   "id": "de4208a6-f08a-4561-bb8b-69f05f6dd4c8",
   "metadata": {
    "tags": []
   },
   "outputs": [
    {
     "data": {
      "text/html": [
       "\n",
       "        <iframe\n",
       "            width=\"100%\"\n",
       "            height=\"650\"\n",
       "            src=\"http://127.0.0.1:8051/\"\n",
       "            frameborder=\"0\"\n",
       "            allowfullscreen\n",
       "            \n",
       "        ></iframe>\n",
       "        "
      ],
      "text/plain": [
       "<IPython.lib.display.IFrame at 0x21eaa4e8e80>"
      ]
     },
     "metadata": {},
     "output_type": "display_data"
    }
   ],
   "source": [
    "app = Dash(__name__)\n",
    "app.layout = html.Div([\n",
    "    \n",
    "    html.Div(children=[\n",
    "        \n",
    "        # 1st Dropdown\n",
    "        dcc.Dropdown(\n",
    "                     list(df.columns)[1:],\n",
    "                     list(df.columns)[1:][0],\n",
    "                     id='my_dropdown',\n",
    "                     ),\n",
    "    \n",
    "   \n",
    "        # 2nd Dropdown\n",
    "        dcc.DatePickerSingle(id='my_datepicker',\n",
    "                            min_date_allowed=df['date'].min(),\n",
    "                            max_date_allowed=df['date'].max(),\n",
    "                            date=df['date'].min(),\n",
    "                            initial_visible_month=df['date'].min(),\n",
    "                            )\n",
    "\n",
    "        ]),\n",
    "\n",
    "   \n",
    "    html.Div(children=[\n",
    "      dcc.Graph(\n",
    "        id='my_linechart',\n",
    "        style={'display':'inline-block'}\n",
    "      ),\n",
    "      dcc.Graph(\n",
    "        id='my_boxplot',\n",
    "        style={'display':'inline-block'}),\n",
    "  ]) \n",
    "    \n",
    "])\n",
    "\n",
    "# The callbacks should be aligned with the number of inputs and outputs \n",
    "\n",
    "@callback(\n",
    "    [Output(component_id='my_linechart', component_property='figure'),\n",
    "     Output(component_id='my_boxplot', component_property='figure')],\n",
    "    [Input(component_id='my_dropdown', component_property='value'),\n",
    "     Input(component_id='my_datepicker', component_property='date')]\n",
    ")\n",
    "\n",
    "def update_plot(stock, dt):\n",
    "    \n",
    "    temp_df = df[df['date']>dt]\n",
    "        \n",
    "    fig1 = px.line(temp_df, x='date', y=stock)\n",
    "    fig2 = px.box(temp_df, y=stock)\n",
    "        \n",
    "    return fig1, fig2\n",
    "\n",
    "if __name__ == '__main__':\n",
    "    app.run_server(debug=True, port=8051)"
   ]
  },
  {
   "cell_type": "code",
   "execution_count": null,
   "id": "4b608bd0-3c22-4434-9712-b1ec02e3c5a4",
   "metadata": {},
   "outputs": [],
   "source": []
  }
 ],
 "metadata": {
  "kernelspec": {
   "display_name": "plotly",
   "language": "python",
   "name": "plotly"
  },
  "language_info": {
   "codemirror_mode": {
    "name": "ipython",
    "version": 3
   },
   "file_extension": ".py",
   "mimetype": "text/x-python",
   "name": "python",
   "nbconvert_exporter": "python",
   "pygments_lexer": "ipython3",
   "version": "3.9.17"
  }
 },
 "nbformat": 4,
 "nbformat_minor": 5
}
