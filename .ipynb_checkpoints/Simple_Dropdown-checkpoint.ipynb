{
 "cells": [
  {
   "cell_type": "code",
   "execution_count": 1,
   "metadata": {
    "executionInfo": {
     "elapsed": 2,
     "status": "ok",
     "timestamp": 1689841506630,
     "user": {
      "displayName": "Arindam Dey",
      "userId": "10651625546197419632"
     },
     "user_tz": -330
    },
    "id": "309cXGSW3z8E",
    "tags": []
   },
   "outputs": [],
   "source": [
    "from dash import Dash, dcc, html, Input, Output,callback\n",
    "import plotly.express as px\n",
    "import plotly.graph_objects as go\n",
    "import pandas as pd\n",
    "import numpy as np\n",
    "import math\n",
    "\n",
    "\n",
    "samples = [200,10,5,40,60,100,2,100,9,10]\n",
    "idx = [n for n in range(10)]\n",
    "\n",
    "for i,smp in zip(idx,samples):\n",
    "    if i == 0:\n",
    "        X = np.full((smp,96, 96), i/10)\n",
    "        y = np.full((smp,),i)\n",
    "    else:\n",
    "        tempx = np.full((smp,96, 96), i/10)\n",
    "        tempy = np.full((smp,),i)\n",
    "        X = np.r_[X,tempx]\n",
    "        y = np.r_[y,tempy]"
   ]
  },
  {
   "cell_type": "markdown",
   "metadata": {},
   "source": [
    "html.Div(children=[\n",
    "      dcc.Graph(\n",
    "        # Style the graphs to appear side-by-side\n",
    "        figure=bar_fig_major_cat,\n",
    "        style={'display':'inline-block'}),\n",
    "      dcc.Graph(\n",
    "        figure=bar_fig_minor_cat,\n",
    "        style={'display':'inline-block'}),\n",
    "  ])"
   ]
  },
  {
   "cell_type": "code",
   "execution_count": 3,
   "metadata": {
    "colab": {
     "base_uri": "https://localhost:8080/",
     "height": 671
    },
    "executionInfo": {
     "elapsed": 10,
     "status": "ok",
     "timestamp": 1689841958431,
     "user": {
      "displayName": "Arindam Dey",
      "userId": "10651625546197419632"
     },
     "user_tz": -330
    },
    "id": "yITSOCdvY9Yb",
    "outputId": "e88dde51-c379-4ac4-9709-0283559920db",
    "tags": []
   },
   "outputs": [
    {
     "data": {
      "text/html": [
       "\n",
       "        <iframe\n",
       "            width=\"100%\"\n",
       "            height=\"650\"\n",
       "            src=\"http://127.0.0.1:8050/\"\n",
       "            frameborder=\"0\"\n",
       "            allowfullscreen\n",
       "            \n",
       "        ></iframe>\n",
       "        "
      ],
      "text/plain": [
       "<IPython.lib.display.IFrame at 0x299dea71af0>"
      ]
     },
     "metadata": {},
     "output_type": "display_data"
    }
   ],
   "source": [
    "app = Dash(__name__)\n",
    "app.layout = html.Div([\n",
    "    dcc.Dropdown([i for i in range(10)],\n",
    "                 0,\n",
    "                 id='my_dropdown2'),\n",
    "\n",
    "    #html.Div(dcc.Graph(id='my_picbox'))\n",
    "    html.Div(children=[\n",
    "      dcc.Graph(\n",
    "        # Style the graphs to appear side-by-side\n",
    "        id='my_picbox',\n",
    "        style={'display':'inline-block'}),\n",
    "      dcc.Graph(\n",
    "        id='my_picbox2',\n",
    "        style={'display':'inline-block'}),\n",
    "  ]) \n",
    "    \n",
    "])\n",
    "\n",
    "\n",
    "@callback(\n",
    "    [Output(component_id='my_picbox', component_property='figure'),\n",
    "     Output(component_id='my_picbox2', component_property='figure')],\n",
    "    Input(component_id='my_dropdown2', component_property='value')\n",
    ")\n",
    "\n",
    "def update_plot(digit):\n",
    "\n",
    "        \n",
    "    if digit is not None:\n",
    "        samples = np.where(y==digit)[0]\n",
    "        \n",
    "        if len(samples)>20:\n",
    "            samples = np.random.choice(samples,20)\n",
    "\n",
    "        imgs = np.empty((20,96,96),)\n",
    "        imgs[:]= np.nan\n",
    "        imgs[0:len(samples)]=X[samples, :, :]\n",
    "                \n",
    "        fig = px.imshow(imgs[:, :, :],\n",
    "                        binary_string=False,\n",
    "                        zmin=0,\n",
    "                        zmax=1,\n",
    "                        facet_col=0,\n",
    "                        aspect = 'auto',\n",
    "                        facet_col_wrap=5,\n",
    "                        facet_row_spacing = 0,\n",
    "                        color_continuous_scale='rdylgn')\n",
    "        \n",
    "        '''\n",
    "        for n,i in enumerate(fig.layout.annotations):\n",
    "            try:\n",
    "                i['text']=str(samples[n])\n",
    "            except:\n",
    "                pass\n",
    "        '''\n",
    "        for i in fig.layout.annotations:\n",
    "            n = int(i['text'].split('=')[1])\n",
    "            try:\n",
    "                i['text']=str(samples[n])\n",
    "            except:\n",
    "                i['text']=' '\n",
    "    \n",
    "    fig.update_layout(margin = dict(t=70, l=50, r=0, b=5),\n",
    "                      #coloraxis_showscale = False,\n",
    "                      height = 600,\n",
    "                      width = 600,)\n",
    "    \n",
    "    \n",
    "    fig2= go.Figure([go.Bar(x=np.arange(len(samples)), \n",
    "                        y=samples)])\n",
    "    \n",
    "    fig2.update_layout(margin = dict(t=70, l=50, r=0, b=5),\n",
    "                  #coloraxis_showscale = False,\n",
    "                  height = 600,\n",
    "                  width = 600,)\n",
    "    \n",
    "    \n",
    "\n",
    "    return fig,fig2\n",
    "\n",
    "\n",
    "if __name__ == '__main__':\n",
    "    app.run_server(mode = 'jupyterlab')"
   ]
  },
  {
   "cell_type": "code",
   "execution_count": null,
   "metadata": {},
   "outputs": [],
   "source": []
  }
 ],
 "metadata": {
  "colab": {
   "authorship_tag": "ABX9TyNEuJl1NFtRb3tgjSShTzpl",
   "mount_file_id": "164XTTizgLTt6uHX9NzBqBM7pcc14aGwS",
   "provenance": [
    {
     "file_id": "164XTTizgLTt6uHX9NzBqBM7pcc14aGwS",
     "timestamp": 1603032310201
    }
   ]
  },
  "kernelspec": {
   "display_name": "plotly",
   "language": "python",
   "name": "plotly"
  },
  "language_info": {
   "codemirror_mode": {
    "name": "ipython",
    "version": 3
   },
   "file_extension": ".py",
   "mimetype": "text/x-python",
   "name": "python",
   "nbconvert_exporter": "python",
   "pygments_lexer": "ipython3",
   "version": "3.9.17"
  }
 },
 "nbformat": 4,
 "nbformat_minor": 4
}
